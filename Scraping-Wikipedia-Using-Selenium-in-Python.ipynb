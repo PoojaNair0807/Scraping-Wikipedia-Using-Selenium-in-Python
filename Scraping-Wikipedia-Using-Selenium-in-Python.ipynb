{
 "cells": [
  {
   "cell_type": "code",
   "execution_count": 1,
   "id": "17eca692-2103-4e75-ab75-b70aac9ad5a3",
   "metadata": {},
   "outputs": [
    {
     "name": "stdout",
     "output_type": "stream",
     "text": [
      "Requirement already satisfied: selenium in c:\\users\\pooja\\desktop\\projects\\scraping_wikipedia_using_selenium_in_python\\venv\\lib\\site-packages (4.12.0)\n",
      "Requirement already satisfied: urllib3[socks]<3,>=1.26 in c:\\users\\pooja\\desktop\\projects\\scraping_wikipedia_using_selenium_in_python\\venv\\lib\\site-packages (from selenium) (2.0.5)\n",
      "Requirement already satisfied: trio~=0.17 in c:\\users\\pooja\\desktop\\projects\\scraping_wikipedia_using_selenium_in_python\\venv\\lib\\site-packages (from selenium) (0.22.2)\n",
      "Requirement already satisfied: trio-websocket~=0.9 in c:\\users\\pooja\\desktop\\projects\\scraping_wikipedia_using_selenium_in_python\\venv\\lib\\site-packages (from selenium) (0.10.4)\n",
      "Requirement already satisfied: certifi>=2021.10.8 in c:\\users\\pooja\\desktop\\projects\\scraping_wikipedia_using_selenium_in_python\\venv\\lib\\site-packages (from selenium) (2023.7.22)\n",
      "Requirement already satisfied: attrs>=20.1.0 in c:\\users\\pooja\\desktop\\projects\\scraping_wikipedia_using_selenium_in_python\\venv\\lib\\site-packages (from trio~=0.17->selenium) (23.1.0)\n",
      "Requirement already satisfied: sortedcontainers in c:\\users\\pooja\\desktop\\projects\\scraping_wikipedia_using_selenium_in_python\\venv\\lib\\site-packages (from trio~=0.17->selenium) (2.4.0)\n",
      "Requirement already satisfied: idna in c:\\users\\pooja\\desktop\\projects\\scraping_wikipedia_using_selenium_in_python\\venv\\lib\\site-packages (from trio~=0.17->selenium) (3.4)\n",
      "Requirement already satisfied: outcome in c:\\users\\pooja\\desktop\\projects\\scraping_wikipedia_using_selenium_in_python\\venv\\lib\\site-packages (from trio~=0.17->selenium) (1.2.0)\n",
      "Requirement already satisfied: sniffio in c:\\users\\pooja\\desktop\\projects\\scraping_wikipedia_using_selenium_in_python\\venv\\lib\\site-packages (from trio~=0.17->selenium) (1.3.0)\n",
      "Requirement already satisfied: cffi>=1.14 in c:\\users\\pooja\\desktop\\projects\\scraping_wikipedia_using_selenium_in_python\\venv\\lib\\site-packages (from trio~=0.17->selenium) (1.15.1)\n",
      "Requirement already satisfied: exceptiongroup in c:\\users\\pooja\\desktop\\projects\\scraping_wikipedia_using_selenium_in_python\\venv\\lib\\site-packages (from trio-websocket~=0.9->selenium) (1.1.3)\n",
      "Requirement already satisfied: wsproto>=0.14 in c:\\users\\pooja\\desktop\\projects\\scraping_wikipedia_using_selenium_in_python\\venv\\lib\\site-packages (from trio-websocket~=0.9->selenium) (1.2.0)\n",
      "Requirement already satisfied: pysocks!=1.5.7,<2.0,>=1.5.6 in c:\\users\\pooja\\desktop\\projects\\scraping_wikipedia_using_selenium_in_python\\venv\\lib\\site-packages (from urllib3[socks]<3,>=1.26->selenium) (1.7.1)\n",
      "Requirement already satisfied: pycparser in c:\\users\\pooja\\desktop\\projects\\scraping_wikipedia_using_selenium_in_python\\venv\\lib\\site-packages (from cffi>=1.14->trio~=0.17->selenium) (2.21)\n",
      "Requirement already satisfied: h11<1,>=0.9.0 in c:\\users\\pooja\\desktop\\projects\\scraping_wikipedia_using_selenium_in_python\\venv\\lib\\site-packages (from wsproto>=0.14->trio-websocket~=0.9->selenium) (0.14.0)\n",
      "Note: you may need to restart the kernel to use updated packages.\n"
     ]
    }
   ],
   "source": [
    "pip install selenium\n"
   ]
  },
  {
   "cell_type": "code",
   "execution_count": 2,
   "id": "16a066ff-864e-4218-96a2-f34b31f60324",
   "metadata": {},
   "outputs": [
    {
     "name": "stdout",
     "output_type": "stream",
     "text": [
      "Requirement already satisfied: webdriver_manager in c:\\users\\pooja\\desktop\\projects\\scraping_wikipedia_using_selenium_in_python\\venv\\lib\\site-packages (4.0.0)Note: you may need to restart the kernel to use updated packages.\n",
      "\n",
      "Requirement already satisfied: requests in c:\\users\\pooja\\desktop\\projects\\scraping_wikipedia_using_selenium_in_python\\venv\\lib\\site-packages (from webdriver_manager) (2.31.0)\n",
      "Requirement already satisfied: python-dotenv in c:\\users\\pooja\\desktop\\projects\\scraping_wikipedia_using_selenium_in_python\\venv\\lib\\site-packages (from webdriver_manager) (1.0.0)\n",
      "Requirement already satisfied: packaging in c:\\users\\pooja\\desktop\\projects\\scraping_wikipedia_using_selenium_in_python\\venv\\lib\\site-packages (from webdriver_manager) (23.1)\n",
      "Requirement already satisfied: charset-normalizer<4,>=2 in c:\\users\\pooja\\desktop\\projects\\scraping_wikipedia_using_selenium_in_python\\venv\\lib\\site-packages (from requests->webdriver_manager) (3.2.0)\n",
      "Requirement already satisfied: idna<4,>=2.5 in c:\\users\\pooja\\desktop\\projects\\scraping_wikipedia_using_selenium_in_python\\venv\\lib\\site-packages (from requests->webdriver_manager) (3.4)\n",
      "Requirement already satisfied: urllib3<3,>=1.21.1 in c:\\users\\pooja\\desktop\\projects\\scraping_wikipedia_using_selenium_in_python\\venv\\lib\\site-packages (from requests->webdriver_manager) (2.0.5)\n",
      "Requirement already satisfied: certifi>=2017.4.17 in c:\\users\\pooja\\desktop\\projects\\scraping_wikipedia_using_selenium_in_python\\venv\\lib\\site-packages (from requests->webdriver_manager) (2023.7.22)\n"
     ]
    }
   ],
   "source": [
    "pip install webdriver_manager\n"
   ]
  },
  {
   "cell_type": "code",
   "execution_count": 14,
   "id": "96ae54a1-721c-450d-b096-11a681891baa",
   "metadata": {},
   "outputs": [],
   "source": [
    "#Importing Liabraries\n",
    "#pip install selenium\n",
    "from selenium import webdriver\n",
    "from selenium.webdriver.chrome.options import Options\n",
    "from selenium.webdriver.common.by import By\n",
    "from selenium.webdriver.chrome.service import Service\n",
    "#pip install webdriver_manager\n",
    "from webdriver_manager.chrome import ChromeDriverManager\n",
    "\n",
    "#Options\n",
    "chrome_options = Options()\n",
    "chrome_options.add_argument('--headless')\n",
    "chrome_options.add_argument('--no-sandbox')\n",
    "chrome_options.add_argument('--disable-dev-shm-usage')\n",
    "\n",
    "#Creating the WebDriver instance\n",
    "wd = webdriver.Chrome(service=Service(ChromeDriverManager().install()),options=chrome_options)"
   ]
  },
  {
   "cell_type": "code",
   "execution_count": 15,
   "id": "51962865-196f-41e3-8d5c-fbec0726765e",
   "metadata": {},
   "outputs": [],
   "source": [
    "wd.get(\"https://www.wikipedia.org/\")\n"
   ]
  },
  {
   "cell_type": "code",
   "execution_count": 16,
   "id": "17125a13-f987-47b3-a1b6-404db1c5fed3",
   "metadata": {},
   "outputs": [],
   "source": [
    "#Fetching the element by 10\n",
    "input_element = wd.find_element(by=By.ID, value=\"searchInput\")\n",
    "\n",
    "#Sending keys\n",
    "input_element.send_keys('ASD')\n",
    "\n",
    "#Fetching the search button through CSS class name\n",
    "search = wd.find_element(by=By.CLASS_NAME, value=\"pure-button\")\n",
    "\n",
    "#Clicking the search button\n",
    "wd.execute_script(\"arguments[0].click();\", search)\n",
    "\n",
    "                       "
   ]
  },
  {
   "cell_type": "code",
   "execution_count": 17,
   "id": "09bade58-8d5c-40d6-bb4c-3dbd938c229c",
   "metadata": {},
   "outputs": [],
   "source": [
    "#Fetching the link through link text\n",
    "link_element = wd.find_element(By.LINK_TEXT, \"Adaptive software development\")\n",
    "\n",
    "#Clicking the link\n",
    "wd.execute_script(\"arguments[0].click();\", link_element)"
   ]
  },
  {
   "cell_type": "code",
   "execution_count": 23,
   "id": "0e963055-993a-4a56-8214-8077a225c593",
   "metadata": {},
   "outputs": [],
   "source": [
    "#Fetching all elements with <p> tags\n",
    "p_tags = wd.find_elements(by=By.TAG_NAME, value=\"p\")\n",
    "\n",
    "#Extracting the text from the fetched elements\n",
    "text_lines = ''\n",
    "for p_tag in p_tags:\n",
    "    text_lines += p_tag.text\n",
    "   "
   ]
  },
  {
   "cell_type": "code",
   "execution_count": 25,
   "id": "63af0dfa-f884-4017-a839-4b3a96a1d62c",
   "metadata": {},
   "outputs": [],
   "source": [
    "#Extracting nested elements using CSS selector\n",
    "elems = wd.find_elements(by=By.CSS_SELECTOR, value='p > a')\n",
    "\n",
    "#Creating the Dictionary\n",
    "link_dict = {}\n",
    "for elem in elems:\n",
    "    link_dict[elem.text] = elem.get_attribute('href')"
   ]
  },
  {
   "cell_type": "code",
   "execution_count": null,
   "id": "e5c79b66-2271-477e-840f-633269222a94",
   "metadata": {},
   "outputs": [],
   "source": []
  }
 ],
 "metadata": {
  "kernelspec": {
   "display_name": "Python 3 (ipykernel)",
   "language": "python",
   "name": "python3"
  },
  "language_info": {
   "codemirror_mode": {
    "name": "ipython",
    "version": 3
   },
   "file_extension": ".py",
   "mimetype": "text/x-python",
   "name": "python",
   "nbconvert_exporter": "python",
   "pygments_lexer": "ipython3",
   "version": "3.11.4"
  }
 },
 "nbformat": 4,
 "nbformat_minor": 5
}
